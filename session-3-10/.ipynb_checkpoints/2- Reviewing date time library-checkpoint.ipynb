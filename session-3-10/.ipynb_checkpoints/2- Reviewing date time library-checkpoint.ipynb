{
 "cells": [
  {
   "cell_type": "markdown",
   "metadata": {},
   "source": [
    "We probably remember that we are working with 4-d data, where the dimensions are TIME x DEPTH x LAT x LON. \n",
    "\n",
    "The goal for this notebook is to loop through all the times and write the dates in YEARMONTHDAY format. "
   ]
  },
  {
   "cell_type": "code",
   "execution_count": 1,
   "metadata": {},
   "outputs": [],
   "source": [
    "import numpy as np\n",
    "from netCDF4 import Dataset\n",
    "import datetime as td"
   ]
  },
  {
   "cell_type": "markdown",
   "metadata": {},
   "source": [
    "Before we look at our data, here is an example of working with date and timedelta. Say you want to find out the date 10 years after March 9th, 2020:"
   ]
  },
  {
   "cell_type": "code",
   "execution_count": 2,
   "metadata": {},
   "outputs": [
    {
     "name": "stdout",
     "output_type": "stream",
     "text": [
      "2020-03-09\n"
     ]
    }
   ],
   "source": [
    "march_9_2020 = td.date(2020,3,9)\n",
    "print(march_9_2020)"
   ]
  },
  {
   "cell_type": "code",
   "execution_count": 3,
   "metadata": {},
   "outputs": [],
   "source": [
    "ten_years = td.timedelta(days =10*365) # this doesn't consider leap years"
   ]
  },
  {
   "cell_type": "code",
   "execution_count": 4,
   "metadata": {},
   "outputs": [
    {
     "name": "stdout",
     "output_type": "stream",
     "text": [
      "2030-03-07\n"
     ]
    }
   ],
   "source": [
    "date_in_10_years = ten_years + march_9_2020\n",
    "print(date_in_10_years)"
   ]
  },
  {
   "cell_type": "markdown",
   "metadata": {},
   "source": [
    "-------------------\n",
    "# Now let's look at our data\n",
    "\n",
    "The first thing is to import the dataset as a Dataset object"
   ]
  },
  {
   "cell_type": "code",
   "execution_count": 5,
   "metadata": {},
   "outputs": [],
   "source": [
    "#do that here:\n",
    "dataset = Dataset(r'/Users/brownscholar/Desktop/Intern_Git/Downloads/dataset-armor-3d-rep-weekly_1574699840388.nc')"
   ]
  },
  {
   "cell_type": "markdown",
   "metadata": {},
   "source": [
    "Then we want to read in the time variable. Do that here:"
   ]
  },
  {
   "cell_type": "code",
   "execution_count": 6,
   "metadata": {},
   "outputs": [],
   "source": [
    "# do that here:\n",
    "time = dataset['time']"
   ]
  },
  {
   "cell_type": "markdown",
   "metadata": {},
   "source": [
    "Print the shape of the time variable:"
   ]
  },
  {
   "cell_type": "code",
   "execution_count": 7,
   "metadata": {},
   "outputs": [
    {
     "name": "stdout",
     "output_type": "stream",
     "text": [
      "<class 'netCDF4._netCDF4.Variable'>\n",
      "int32 time(time)\n",
      "    units: hours since 1950-01-01\n",
      "    _CoordinateAxisType: Time\n",
      "    axis: T\n",
      "    long_name: time\n",
      "    standard_name: time\n",
      "    calendar: gregorian\n",
      "    valid_min: 377064\n",
      "    valid_max: 604704\n",
      "unlimited dimensions: \n",
      "current shape = (1356,)\n",
      "filling on, default _FillValue of -2147483647 used\n",
      "\n"
     ]
    }
   ],
   "source": [
    "# do that here:\n",
    "print(time)"
   ]
  },
  {
   "cell_type": "markdown",
   "metadata": {},
   "source": [
    "Before we start using datetime, in terminal (open a new window or tab) look at the units of time. Using this info, define a start date:"
   ]
  },
  {
   "cell_type": "code",
   "execution_count": 11,
   "metadata": {},
   "outputs": [],
   "source": [
    "# do this here\n",
    "start = td.date(1950,1,1)"
   ]
  },
  {
   "cell_type": "markdown",
   "metadata": {},
   "source": [
    "Now, looping through the time numpy array, calculate and print the date using timedelta:"
   ]
  },
  {
   "cell_type": "code",
   "execution_count": 13,
   "metadata": {},
   "outputs": [
    {
     "ename": "SyntaxError",
     "evalue": "unexpected EOF while parsing (<ipython-input-13-e8d0c0bed757>, line 3)",
     "output_type": "error",
     "traceback": [
      "\u001b[0;36m  File \u001b[0;32m\"<ipython-input-13-e8d0c0bed757>\"\u001b[0;36m, line \u001b[0;32m3\u001b[0m\n\u001b[0;31m    \u001b[0m\n\u001b[0m    ^\u001b[0m\n\u001b[0;31mSyntaxError\u001b[0m\u001b[0;31m:\u001b[0m unexpected EOF while parsing\n"
     ]
    }
   ],
   "source": [
    "# do this here\n",
    "for i in time:\n",
    "    hours = td.timedelta(hour = i)\n",
    "    print()"
   ]
  },
  {
   "cell_type": "markdown",
   "metadata": {},
   "source": [
    "--------------------\n",
    "# Finally,\n",
    "we want to turn these date objects into strings that are of the form YEARMONTHDAY. Here is an example of how to do this using the ``march_9_2020`` date we made before:"
   ]
  },
  {
   "cell_type": "code",
   "execution_count": null,
   "metadata": {},
   "outputs": [],
   "source": [
    "print(march_9_2020.strftime(\"%y\") + march_9_2020.strftime(\"%m\") + march_9_2020.strftime(\"%d\"))\n",
    "\n",
    "# if this is confusing to you google the function \"strftime\" "
   ]
  },
  {
   "cell_type": "markdown",
   "metadata": {},
   "source": [
    "Add this to your loop and print the YEARMONTHDAY date for each date."
   ]
  },
  {
   "cell_type": "markdown",
   "metadata": {},
   "source": [
    "Now: How can we add this to our code to change our file names? "
   ]
  },
  {
   "cell_type": "code",
   "execution_count": null,
   "metadata": {},
   "outputs": [],
   "source": []
  }
 ],
 "metadata": {
  "kernelspec": {
   "display_name": "Python 3",
   "language": "python",
   "name": "python3"
  },
  "language_info": {
   "codemirror_mode": {
    "name": "ipython",
    "version": 3
   },
   "file_extension": ".py",
   "mimetype": "text/x-python",
   "name": "python",
   "nbconvert_exporter": "python",
   "pygments_lexer": "ipython3",
   "version": "3.7.3"
  }
 },
 "nbformat": 4,
 "nbformat_minor": 2
}
