{
 "cells": [
  {
   "cell_type": "markdown",
   "metadata": {},
   "source": [
    "On Tuesday we worked on writing to a single file. Sometimes, like in our case, you want to write to multiple files in a loop. There are a few ways to do this. \n",
    "\n",
    "First, let's review how to write to a single file. Using a loop, write anything to a single file:"
   ]
  },
  {
   "cell_type": "code",
   "execution_count": 2,
   "metadata": {},
   "outputs": [],
   "source": [
    "# Do that here:\n",
    "file = open('test_file.txt','w')\n",
    "for i in range(0,9):\n",
    "    file.write(\"this is a test, just making sure this works.\")\n",
    "file.close()"
   ]
  },
  {
   "cell_type": "markdown",
   "metadata": {},
   "source": [
    "Writing to multiple files is similar. The main difference is you have to \n",
    "* **specify the name and location for each file**, \n",
    "\n",
    "and you also have to \n",
    "* **open and close the file in the loop.** \n",
    "\n",
    "Here is an example :"
   ]
  },
  {
   "cell_type": "code",
   "execution_count": 3,
   "metadata": {},
   "outputs": [],
   "source": [
    "for i in range(0,10):\n",
    "    my_file = open(\"file_\"+str(i)+\".txt\",\"w\")\n",
    "    my_file.write(\"this file has writing in it\\n\")\n",
    "    my_file.close()\n"
   ]
  },
  {
   "cell_type": "markdown",
   "metadata": {},
   "source": [
    "In finder, look in the directory we are currently in (session-3-5). You should see 10 files. Make sure what you see makes sense to you. Explain what you see to your neighbor.\n",
    "\n",
    "Now try it yourself. First try using a loop to write 4 files in the same way I did above:"
   ]
  },
  {
   "cell_type": "code",
   "execution_count": 4,
   "metadata": {},
   "outputs": [],
   "source": [
    "# do that here:\n",
    "\n",
    "for i in range(0,7):\n",
    "    story = open(\"cold_\"+ str(i)+\".txt\",\"w\")\n",
    "    story.write(\"this is the song that never ends, yes it goes on and on my friend. Someone started sing it\")\n",
    "    story.close()\n"
   ]
  },
  {
   "cell_type": "markdown",
   "metadata": {},
   "source": [
    "Other ideas to be aware of: \n",
    "\n",
    "1. Using the same index to index multiple lists:"
   ]
  },
  {
   "cell_type": "code",
   "execution_count": 5,
   "metadata": {},
   "outputs": [],
   "source": [
    "file_titles = ['first_file.txt','second_file.txt','third_file.txt',\n",
    "               'fourth_file.txt','fifth_file.txt','sixth_file.txt']\n",
    "file_contents = ['Isabel','Gladys','Kai','Shanique','Lynette','Tadelin']\n",
    "\n",
    "for i in range(0,6):\n",
    "    my_file = open(file_titles[i],\"w\")\n",
    "    my_file.write(\"Name: \" +file_contents[i])\n",
    "    my_file.write('\\n blah blah blah')\n",
    "    my_file.close()"
   ]
  },
  {
   "cell_type": "markdown",
   "metadata": {},
   "source": [
    "2. You can send files to other places other than the current directory:"
   ]
  },
  {
   "cell_type": "code",
   "execution_count": 6,
   "metadata": {},
   "outputs": [],
   "source": [
    "my_file=open('/Users/brownscholar/Desktop/Intern_Git/ocean-ml/session-3-5/secret_file.txt',\"w\")\n",
    "my_file.write(\"this is a test secret file\")\n",
    "my_file.close()"
   ]
  },
  {
   "cell_type": "markdown",
   "metadata": {},
   "source": [
    "Using all these ideas (writing to multiple files, using the same index on multiple lists, writing to a certain place on your computer), write 5 files of your choice for practice. "
   ]
  },
  {
   "cell_type": "code",
   "execution_count": 7,
   "metadata": {},
   "outputs": [],
   "source": [
    "# do this here:\n",
    "\n",
    "number1_hits = [\"song_1\", \"song_2\",\"song_3\",\"song_4\",\"song_5\"]\n",
    "song = [\"fun\",\"sorry\",\"someone I used to love\", \"what do you mean\", \"hate me\"]\n"
   ]
  },
  {
   "cell_type": "code",
   "execution_count": 9,
   "metadata": {},
   "outputs": [],
   "source": [
    "for i in range(0,5):\n",
    "    awsome = open(number1_hits[i],\"w\")\n",
    "    awsome.write(\"Name: \" +song[i])\n",
    "    awsome.write(\"\\n this song made my day everytime\")\n",
    "    awsome.close()"
   ]
  },
  {
   "cell_type": "code",
   "execution_count": null,
   "metadata": {},
   "outputs": [],
   "source": []
  }
 ],
 "metadata": {
  "kernelspec": {
   "display_name": "Python 2",
   "language": "python",
   "name": "python2"
  },
  "language_info": {
   "codemirror_mode": {
    "name": "ipython",
    "version": 2
   },
   "file_extension": ".py",
   "mimetype": "text/x-python",
   "name": "python",
   "nbconvert_exporter": "python",
<<<<<<< HEAD
   "pygments_lexer": "ipython3",
   "version": "3.7.3"
=======
   "pygments_lexer": "ipython2",
   "version": "2.7.16"
>>>>>>> 507f30019f87660c645769be8cfa1ccf9f91eb74
  }
 },
 "nbformat": 4,
 "nbformat_minor": 2
}
